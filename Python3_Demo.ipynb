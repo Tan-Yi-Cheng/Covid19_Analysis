{
 "cells": [
  {
   "cell_type": "markdown",
   "metadata": {},
   "source": [
    "# Client Retention Demo Using Python\n",
    "In this demo, we will show Anaconda functionality accessing enterprise data from VSAM and DB2. The data stored in VSAM consists of 6,001 rows of customer information.  The data stored in DB2 consists of 20,000 rows of transaction data. The data is transformed and joined in a Pandas DataFrame, which is used to perform exploratory analyses. A random forest algorithm is then used to predict customer churn."
   ]
  },
  {
   "cell_type": "code",
   "execution_count": 1,
   "metadata": {
    "collapsed": false
   },
   "outputs": [],
   "source": [
    "USERNAME=\"SPK8161\"\n",
    "PASSWORD=\"mave1234\"\n",
    "MDSS_SSID=\"AZK1\"\n",
    "DB2_SSID=\"DBBG\"\n",
    "\n",
    "import pandas as pd\n",
    "import numpy as np\n",
    "\n",
    "import warnings\n",
    "warnings.filterwarnings(\"ignore\")\n",
    "warnings.simplefilter(\"ignore\", category=PendingDeprecationWarning)"
   ]
  },
  {
   "cell_type": "markdown",
   "metadata": {},
   "source": [
    "## Set up Mainframe Data Connections\n",
    "This step will set up the VSAM and DB2 connections to access the data and load them into Pandas DataFrames.  The dsdbc module is delivered with the z/OS IzODA Anaconda distribution. It enables Python applications to access the z/OS IzODA Mainframe Data Service. The Data Service component (MDS) provides optimized, virtualized, and parallelized access to both IBM Z data sources and other off-platform data sources."
   ]
  },
  {
   "cell_type": "code",
   "execution_count": 4,
   "metadata": {
    "collapsed": false
   },
   "outputs": [],
   "source": [
    "def cp1047_to_utf8(list):\n",
    "    list_out = []\n",
    "    for e in list:\n",
    "        x = ()\n",
    "        for i in e:\n",
    "            if isinstance(i, (str,)):\n",
    "                s = i.encode('utf16').decode('cp1047').encode('utf8').decode('utf16')[2:]\n",
    "                x = x + (s,)\n",
    "            else:\n",
    "                x = x + (i,)\n",
    "        list_out.append(x)\n",
    "    return list_out\n",
    "\n",
    "def load_data_from_mds(vtable_name, user, password, mds_id=MDSS_SSID):\n",
    "    import dsdbc\n",
    "    conn =dsdbc.connect(SSID=mds_id, user=user, password=password)\n",
    "    cursor = conn.cursor()\n",
    "    cursor.execute(\"SELECT * FROM \" + vtable_name)\n",
    "    rows = cursor.fetchall()\n",
    "    label = []\n",
    "    for col in cursor.description: label.append(col[0].lower())\n",
    "    conn.close()\n",
    "    return pd.DataFrame(rows, columns=label)\n",
    "\n",
    "def load_data_from_db2(table_name, user, password, mds_id=MDSS_SSID,  db2_id=DB2_SSID):\n",
    "    import dsdbc\n",
    "    conn =dsdbc.connect(SSID=mds_id, user=user, password=password, dsid=db2_id)\n",
    "    cursor = conn.cursor()\n",
    "    sql = \"SELECT * FROM \" + table_name\n",
    "    #print(sql)\n",
    "    cursor.execute(sql)\n",
    "    rows = cp1047_to_utf8(cursor.fetchall())\n",
    "    label = []\n",
    "    for col in cursor.description: label.append(col[0].lower())\n",
    "    conn.close()\n",
    "    return pd.DataFrame(rows, columns=label)\n"
   ]
  },
  {
   "cell_type": "markdown",
   "metadata": {},
   "source": [
    "***CSV File for Covid case***\n",
    "\n",
    "Load covid 19 situation into a Pandas DataFrame."
   ]
  },
  {
   "cell_type": "code",
   "execution_count": 8,
   "metadata": {
    "collapsed": false
   },
   "outputs": [
    {
     "name": "stdout",
     "output_type": "stream",
     "text": [
      "['owid-covid-latest.csv']\n"
     ]
    }
   ],
   "source": [
    "import glob\n",
    "print(glob.glob(\"owid-covid-latest.csv\"))"
   ]
  },
  {
   "cell_type": "code",
   "execution_count": 47,
   "metadata": {
    "collapsed": false
   },
   "outputs": [],
   "source": [
    "covid_df = pd.read_csv (r'owid-covid-latest.csv')\n",
    "df = pd.DataFrame(covid_df, columns= ['location','total_cases','total_deaths'])\n",
    "# new_df = df.sort_values([\"total_cases\"], ascending=False)\n",
    "# print(new_df.fillna(0))"
   ]
  },
  {
   "cell_type": "markdown",
   "metadata": {},
   "source": [
    "## Aggregate statistics\n",
    "Calculate a few aggregate statistics based on covid 19 cases and join the results to the covid 19 summaries DataFrame. (Until 25/9/2021)"
   ]
  },
  {
   "cell_type": "code",
   "execution_count": 67,
   "metadata": {
    "collapsed": false
   },
   "outputs": [
    {
     "name": "stdout",
     "output_type": "stream",
     "text": [
      "  location  total_cases  total_deaths\n",
      "1   Africa    8233045.0      208523.0\n"
     ]
    }
   ],
   "source": [
    "# Total cases in Africa\n",
    "africa_df = df[df[\"location\"].isin([\"Africa\"])]\n",
    "print(africa_df)"
   ]
  },
  {
   "cell_type": "code",
   "execution_count": 68,
   "metadata": {
    "collapsed": false
   },
   "outputs": [
    {
     "name": "stdout",
     "output_type": "stream",
     "text": [
      "   location  total_cases  total_deaths\n",
      "11     Asia   75061487.0     1115737.0\n"
     ]
    }
   ],
   "source": [
    "# Total cases in Asia\n",
    "asia_df = df[df[\"location\"].isin([\"Asia\"])]\n",
    "print(asia_df)"
   ]
  },
  {
   "cell_type": "code",
   "execution_count": 69,
   "metadata": {
    "collapsed": false
   },
   "outputs": [
    {
     "name": "stdout",
     "output_type": "stream",
     "text": [
      "   location  total_cases  total_deaths\n",
      "65   Europe   58788902.0     1218752.0\n"
     ]
    }
   ],
   "source": [
    "# Total cases in Europe\n",
    "europe_df = df[df[\"location\"].isin([\"Europe\"])]\n",
    "print(europe_df)"
   ]
  },
  {
   "cell_type": "code",
   "execution_count": 70,
   "metadata": {
    "collapsed": false
   },
   "outputs": [
    {
     "name": "stdout",
     "output_type": "stream",
     "text": [
      "          location  total_cases  total_deaths\n",
      "66  European Union   37677446.0      768177.0\n"
     ]
    }
   ],
   "source": [
    "# Total cases in European Union\n",
    "euroUni_df = df[df[\"location\"].isin([\"European Union\"])]\n",
    "print(euroUni_df)"
   ]
  },
  {
   "cell_type": "code",
   "execution_count": 71,
   "metadata": {
    "collapsed": false
   },
   "outputs": [
    {
     "name": "stdout",
     "output_type": "stream",
     "text": [
      "          location  total_cases  total_deaths\n",
      "147  North America   51614749.0     1046376.0\n"
     ]
    }
   ],
   "source": [
    "# Total cases in North America\n",
    "northAme_df = df[df[\"location\"].isin([\"North America\"])]\n",
    "print(northAme_df)"
   ]
  },
  {
   "cell_type": "code",
   "execution_count": 72,
   "metadata": {
    "collapsed": false
   },
   "outputs": [
    {
     "name": "stdout",
     "output_type": "stream",
     "text": [
      "    location  total_cases  total_deaths\n",
      "150  Oceania     171761.0        2074.0\n"
     ]
    }
   ],
   "source": [
    "# Total cases in Oceania\n",
    "oceania_df = df[df[\"location\"].isin([\"Oceania\"])]\n",
    "print(oceania_df)"
   ]
  },
  {
   "cell_type": "code",
   "execution_count": 73,
   "metadata": {
    "collapsed": false
   },
   "outputs": [
    {
     "name": "stdout",
     "output_type": "stream",
     "text": [
      "          location  total_cases  total_deaths\n",
      "184  South America   37654349.0     1151417.0\n"
     ]
    }
   ],
   "source": [
    "# Total cases in South America\n",
    "southAme_df = df[df[\"location\"].isin([\"South America\"])]\n",
    "print(southAme_df)"
   ]
  },
  {
   "cell_type": "code",
   "execution_count": 74,
   "metadata": {
    "collapsed": false
   },
   "outputs": [
    {
     "name": "stdout",
     "output_type": "stream",
     "text": [
      "    location  total_cases  total_deaths\n",
      "217    World  231525879.0     4742894.0\n"
     ]
    }
   ],
   "source": [
    "# Total cases in World\n",
    "world_df = df[df[\"location\"].isin([\"World\"])]\n",
    "print(world_df)"
   ]
  },
  {
   "cell_type": "code",
   "execution_count": 76,
   "metadata": {
    "collapsed": false
   },
   "outputs": [
    {
     "name": "stdout",
     "output_type": "stream",
     "text": [
      "         location  total_cases  total_deaths\n",
      "0          Africa    8233045.0      208523.0\n",
      "1            Asia   75061487.0     1115737.0\n",
      "2          Europe   58788902.0     1218752.0\n",
      "3  European Union   37677446.0      768177.0\n",
      "4   North America   51614749.0     1046376.0\n",
      "5         Oceania     171761.0        2074.0\n",
      "6   South America   37654349.0     1151417.0\n",
      "7           World  231525879.0     4742894.0\n"
     ]
    }
   ],
   "source": [
    "# Combine data\n",
    "covidCD_df = pd.concat([africa_df, asia_df, europe_df, euroUni_df, northAme_df, oceania_df, southAme_df, world_df], ignore_index=True)\n",
    "print(covidCD_df)"
   ]
  },
  {
   "cell_type": "markdown",
   "metadata": {},
   "source": [
    "### Bar Chart\n",
    "We begin our exploration of the data set by creating a bar chart of covid 19 cases associated histograms. "
   ]
  },
  {
   "cell_type": "code",
   "execution_count": 101,
   "metadata": {
    "collapsed": false
   },
   "outputs": [
    {
     "data": {
      "image/png": "[encoded data removed]",
      "text/plain": [
       "<matplotlib.figure.Figure at 0x506c60d978>"
      ]
     },
     "metadata": {},
     "output_type": "display_data"
    }
   ],
   "source": [
    "# Bar chart for Covid 19\n",
    "covidCD_df.plot.bar(x = 'location',\n",
    "                    title= 'Covid 19 cases')\n",
    "plt.tight_layout()\n",
    "plt.show()"
   ]
  },
  {
   "cell_type": "markdown",
   "metadata": {},
   "source": [
    "### Pie Chart\n",
    "We begin our exploration of the data set by creating a pie chart of covid 19 cases."
   ]
  },
  {
   "cell_type": "code",
   "execution_count": 130,
   "metadata": {
    "collapsed": false
   },
   "outputs": [
    {
     "data": {
      "image/png": "[encoded data removed]",
      "text/plain": [
       "<matplotlib.figure.Figure at 0x506c739048>"
      ]
     },
     "metadata": {},
     "output_type": "display_data"
    }
   ],
   "source": [
    "# Total cases\n",
    "pie_df = pd.DataFrame(covidCD_df, columns= ['location','total_cases'])\n",
    "pie_df = pie_df.head(7)\n",
    "pie_df.plot.pie(x = 'location',\\\n",
    "                y = 'total_cases',\\\n",
    "                title = 'Covid 19 cases',\\\n",
    "                labels = covidCD_df['location'],\n",
    "                figsize = (5, 5),\\\n",
    "                autopct = '%.1f%%',\n",
    "                counterclock = False)\n",
    "plt.tight_layout()\n",
    "plt.legend(loc=\"upper right\",\\\n",
    "           fontsize=10,\\\n",
    "           bbox_to_anchor=(1.5,1.0),\\\n",
    "           borderaxespad=0.3)\n",
    "plt.show()"
   ]
  },
  {
   "cell_type": "markdown",
   "metadata": {},
   "source": [
    "### Correlations\n",
    "Next, we compute the correlation coefficients between each variable and create a color-coded correlation matrix. "
   ]
  },
  {
   "cell_type": "code",
   "execution_count": 78,
   "metadata": {
    "collapsed": false
   },
   "outputs": [
    {
     "data": {
      "image/png": "[encoded data removed]",
      "text/plain": [
       "<matplotlib.figure.Figure at 0x504d4950f0>"
      ]
     },
     "metadata": {},
     "output_type": "display_data"
    }
   ],
   "source": [
    "corr = covidCD_df.corr()\n",
    "\n",
    "# only show lower triangle\n",
    "mask = np.zeros_like(corr)\n",
    "mask[np.triu_indices_from(mask)] = True\n",
    "\n",
    "f, ax = plt.subplots(figsize=(12,12))\n",
    "ax = sns.heatmap(corr, mask=mask, square=True, annot=True, fmt='.2f',\n",
    "                 cbar=True,\n",
    "                 ax=ax)\n",
    "title = ax.set_title('Correlations', size=14)"
   ]
  }
 ],
 "metadata": {
  "kernelspec": {
   "display_name": "Python 3",
   "language": "python",
   "name": "python3"
  },
  "language_info": {
   "codemirror_mode": {
    "name": "ipython",
    "version": 3
   },
   "file_extension": ".py",
   "mimetype": "text/x-python",
   "name": "python",
   "nbconvert_exporter": "python",
   "pygments_lexer": "ipython3",
   "version": "3.6.1"
  }
 },
 "nbformat": 4,
 "nbformat_minor": 2
}
